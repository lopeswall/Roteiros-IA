{
  "nbformat": 4,
  "nbformat_minor": 0,
  "metadata": {
    "colab": {
      "provenance": []
    },
    "kernelspec": {
      "name": "python3",
      "display_name": "Python 3"
    },
    "language_info": {
      "name": "python"
    }
  },
  "cells": [
    {
      "cell_type": "code",
      "execution_count": 1,
      "metadata": {
        "id": "sl6rBxxLfUrB"
      },
      "outputs": [],
      "source": [
        "# Célula 1: Instalar bibliotecas\n",
        "!pip install -q google-genai google-adk"
      ]
    },
    {
      "cell_type": "code",
      "source": [
        "# Célula 2: Importar e Configurar a API Key\n",
        "import os\n",
        "from google.colab import userdata\n",
        "import google.generativeai as genai # Importa a biblioteca genai\n",
        "\n",
        "# Carrega a chave da API dos Secrets do Colab e a define como uma variável de ambiente\n",
        "try:\n",
        "    GOOGLE_API_KEY = userdata.get('GOOGLE_API_KEY')\n",
        "    os.environ[\"GOOGLE_API_KEY\"] = GOOGLE_API_KEY\n",
        "    print(\"API Key carregada com sucesso dos Secrets do Colab.\")\n",
        "\n",
        "    # Configura a biblioteca genai com a API Key\n",
        "    genai.configure(api_key=GOOGLE_API_KEY)\n",
        "    print(\"Biblioteca google.generativeai configurada com a API Key.\")\n",
        "\n",
        "except Exception as e:\n",
        "    print(f\"Erro ao carregar ou configurar a API Key: {e}\")\n",
        "    print(\"Por favor, verifique se a API Key está salva corretamente como 'GOOGLE_API_KEY' nos Secrets do Colab.\")\n",
        "\n",
        "# Você pode definir o ID do modelo aqui também, se preferir, ou na próxima célula\n",
        "MODEL_ID = \"gemini-2.0-flash\" # Verifique se este é o ID do modelo que você quer usar\n",
        "print(f\"Modelo Gemini a ser usado: {MODEL_ID}\")"
      ],
      "metadata": {
        "colab": {
          "base_uri": "https://localhost:8080/"
        },
        "id": "d6uz7KF5gV1t",
        "outputId": "dce15ad9-c2d0-4075-cb2c-b09528d933cf"
      },
      "execution_count": 2,
      "outputs": [
        {
          "output_type": "stream",
          "name": "stdout",
          "text": [
            "API Key carregada com sucesso dos Secrets do Colab.\n",
            "Biblioteca google.generativeai configurada com a API Key.\n",
            "Modelo Gemini a ser usado: gemini-2.0-flash\n"
          ]
        }
      ]
    },
    {
      "cell_type": "code",
      "source": [
        "# Célula 3: Importar componentes do ADK e outras bibliotecas\n",
        "from google.adk.agents import Agent\n",
        "from google.adk.runners import Runner\n",
        "# Célula 3: Importar componentes do ADK e outras bibliotecas\n",
        "from google.adk.agents import Agent\n",
        "from google.adk.runners import Runner\n",
        "from google.adk.sessions import InMemorySessionService\n",
        "from google.adk.tools import google_search # Importa a ferramenta de busca\n",
        "from google.adk.tools import built_in_code_execution\n",
        "# from google.adk.tools import Maps # Se existir no ADK e você for usar, importe aqui\n",
        "# from google.adk.tools import Google Flights # Se existir no ADK e você for usar, importe aqui\n",
        "\n",
        "from google.genai import types  # Tipos de dados para interagir com o modelo (Content, Part)\n",
        "from datetime import date, timedelta # Para trabalhar com datas\n",
        "import textwrap # Para formatar texto\n",
        "from IPython.display import display, Markdown # Para exibir Markdown no Colab\n",
        "import requests # Geralmente útil para requisições web, talvez usado internamente pelo ADK ou ferramentas\n",
        "import warnings # Para controlar warnings\n",
        "\n",
        "warnings.filterwarnings(\"ignore\") # Opcional: ignora algumas mensagens de warning\n",
        "\n",
        "print(\"Componentes ADK e outras bibliotecas importadas com sucesso.\")\n",
        "\n",
        "from google.genai import types  # Tipos de dados para interagir com o modelo (Content, Part)\n",
        "from datetime import date, timedelta # Para trabalhar com datas\n",
        "import textwrap # Para formatar texto\n",
        "from IPython.display import display, Markdown # Para exibir Markdown no Colab\n",
        "import requests # Geralmente útil para requisições web, talvez usado internamente pelo ADK ou ferramentas\n",
        "import warnings # Para controlar warnings\n",
        "\n",
        "warnings.filterwarnings(\"ignore\") # Opcional: ignora algumas mensagens de warning\n",
        "\n",
        "print(\"Componentes ADK e outras bibliotecas importadas com sucesso.\")"
      ],
      "metadata": {
        "colab": {
          "base_uri": "https://localhost:8080/"
        },
        "id": "mh_T77QCgYuB",
        "outputId": "a3cd045f-1174-4f17-943c-5c2ae84a872a"
      },
      "execution_count": 3,
      "outputs": [
        {
          "output_type": "stream",
          "name": "stdout",
          "text": [
            "Componentes ADK e outras bibliotecas importadas com sucesso.\n",
            "Componentes ADK e outras bibliotecas importadas com sucesso.\n"
          ]
        }
      ]
    },
    {
      "cell_type": "code",
      "source": [
        "# Célula 4: Função Auxiliar para Chamar o Agente (call_agent) - Com Tratamento de Erro Melhorado\n",
        "import time # Importa time para time.sleep()\n",
        "# Garanta que as imports abaixo estejam em células ANTES desta ou no topo do notebook\n",
        "# from google.adk.agents import Agent\n",
        "# from google.adk.runners import Runner\n",
        "# from google.adk.sessions import InMemorySessionService\n",
        "# from google.genai import types\n",
        "from google.genai.errors import ClientError # <<< Importa o erro específico da API\n",
        "\n",
        "# Função auxiliar que envia uma mensagem para um agente via Runner e retorna a resposta final\n",
        "def call_agent(agent: Agent, message_text: str) -> str:\n",
        "    # Cria um serviço de sessão em memória\n",
        "    session_service = InMemorySessionService()\n",
        "    # Cria uma nova sessão (você pode personalizar os IDs conforme necessário)\n",
        "    session = session_service.create_session(app_name=agent.name, user_id=\"user1\", session_id=\"session1\")\n",
        "    # Cria um Runner para o agente\n",
        "    runner = Runner(agent=agent, app_name=agent.name, session_service=session_service)\n",
        "    # Cria o conteúdo da mensagem de entrada\n",
        "    content = types.Content(role=\"user\", parts=[types.Part(text=message_text)])\n",
        "\n",
        "    final_response = \"\"\n",
        "    max_retries = 3 # Número máximo de tentativas em caso de erro retryable (original + 2 retentativas)\n",
        "    base_delay = 5 # Atraso base em segundos antes de tentar novamente (5s, depois 10s, 20s...)\n",
        "\n",
        "    for attempt in range(max_retries):\n",
        "        try:\n",
        "            print(f\"DEBUG call_agent: Tentativa {attempt + 1}/{max_retries} para rodar o agente para a mensagem: '{message_text[:50]}...'\") # Print de debug\n",
        "            # Itera assincronamente pelos eventos retornados durante a execução do agente\n",
        "            # Removemos request_options pois causou erro anteriormente\n",
        "            for event in runner.run(user_id=\"user1\", session_id=\"session1\", new_message=content):\n",
        "                if event.is_final_response():\n",
        "                    for part in event.content.parts:\n",
        "                        if part.text is not None:\n",
        "                            final_response += part.text\n",
        "                            final_response += \"\\n\"\n",
        "            # Se chegou aqui, a chamada foi bem sucedida, sai do loop de retries\n",
        "            print(f\"DEBUG call_agent: Agente rodou com sucesso na tentativa {attempt + 1}.\")\n",
        "            return final_response\n",
        "\n",
        "        except ClientError as e:\n",
        "            # Captura erros específicos da API do GenAI (status code 4xx, 5xx)\n",
        "            print(f\"DEBUG call_agent: ClientError capturado na tentativa {attempt + 1}: Status {e.status_code}, Mensagem: {e.message}\")\n",
        "            if e.status_code == 429 and attempt < max_retries - 1:\n",
        "                # É um erro de quota e ainda temos tentativas restantes\n",
        "                retry_delay = base_delay * (2 ** attempt) # Backoff exponencial simples (5s, 10s, 20s...)\n",
        "                print(f\"DEBUG call_agent: Erro 429 (Quota Excedida). Tentando novamente em {retry_delay} segundos (Tentativa {attempt + 2}/{max_retries})...\")\n",
        "                time.sleep(retry_delay)\n",
        "                # Continua para a próxima tentativa no loop 'for attempt'\n",
        "            else:\n",
        "                # Não é um erro 429, ou não temos mais tentativas, re-lança o erro ClientError\n",
        "                print(f\"DEBUG call_agent: ClientError não retryable ({e.status_code}) ou sem mais tentativas. Re-lançando o erro.\")\n",
        "                raise e # Re-lança o erro ClientError\n",
        "\n",
        "        except Exception as e:\n",
        "            # Captura quaisquer outros erros inesperados durante a execução do Runner/Agente\n",
        "            print(f\"DEBUG call_agent: Outro tipo de erro inesperado capturado na tentativa {attempt + 1}: {e}\")\n",
        "            # Para outros erros, não tentamos novamente, re-lança\n",
        "            raise e # Re-lança o erro genérico\n",
        "\n",
        "    # Este ponto só seria alcançado se o loop de retries terminasse sem sucesso\n",
        "    # e a última exceção não fosse re-lançada. O 'raise e' dentro do except já garante\n",
        "    # que a exceção será propagada. Adicionamos um retorno de fallback caso algo\n",
        "    # inesperado aconteça e a exceção não seja re-lançada.\n",
        "    print(\"DEBUG call_agent: Loop de retries terminou sem sucesso. Um erro deveria ter sido re-lançado.\")\n",
        "    return \"ERRO_FATAL_CALL_AGENT: Todas as tentativas falharam.\"\n",
        "\n",
        "\n",
        "print(\"Função call_agent definida (com tratamento de erro aprimorado e retentativas para 429).\")"
      ],
      "metadata": {
        "colab": {
          "base_uri": "https://localhost:8080/"
        },
        "id": "kPvbGqVzgziN",
        "outputId": "1f40b5e9-b644-4d95-9267-6734765284dc"
      },
      "execution_count": 4,
      "outputs": [
        {
          "output_type": "stream",
          "name": "stdout",
          "text": [
            "Função call_agent definida (com tratamento de erro aprimorado e retentativas para 429).\n"
          ]
        }
      ]
    },
    {
      "cell_type": "code",
      "source": [
        "# Célula 5: Função Auxiliar para Formatar Markdown (to_markdown)\n",
        "# Função auxiliar para exibir texto formatado em Markdown no Colab\n",
        "def to_markdown(text):\n",
        "  # Substitui bullet points comuns por formato Markdown\n",
        "  text = text.replace('•', '  *')\n",
        "  # Adiciona identação de bloco de citação e retorna objeto Markdown\n",
        "  return Markdown(textwrap.indent(text, '> ', predicate=lambda _: True))\n",
        "\n",
        "print(\"Função to_markdown definida.\")"
      ],
      "metadata": {
        "colab": {
          "base_uri": "https://localhost:8080/"
        },
        "id": "_LRQZ-cTg4tM",
        "outputId": "adf97a9c-3caa-4d56-8e27-edd66ef5ef9a"
      },
      "execution_count": 5,
      "outputs": [
        {
          "output_type": "stream",
          "name": "stdout",
          "text": [
            "Função to_markdown definida.\n"
          ]
        }
      ]
    },
    {
      "cell_type": "code",
      "source": [
        "# Célula 6: Definição do Agente Buscador (agente_buscador) - Refinamento das Mensagens de Erro\n",
        "##########################################\n",
        "# --- Agente 1: Buscador de Roteiros --- #\n",
        "##########################################\n",
        "\n",
        "def agente_buscador (topico, numero_dias, dia, data_formatada, destino, tipo_viagem, lugares_sugeridos_total=[]):\n",
        "    if lugares_sugeridos_total:\n",
        "        lugares_str_para_agente = \"\\n\" + \"\\n\".join([f\"* {local}\" for local in lugares_sugeridos_total])\n",
        "    else:\n",
        "        lugares_str_para_agente = \"Nenhum local sugerido ainda.\"\n",
        "\n",
        "    buscador = Agent(\n",
        "        name=\"buscador_de_roteiros\",\n",
        "        model=MODEL_ID,\n",
        "        instruction=f\"\"\"\n",
        "        Você é um assistente de pesquisa de roteiros especializado em viagens, focado em criar sugestões detalhadas e **ÚNICAS** para **um único dia específico** de uma viagem maior.\n",
        "\n",
        "        Sua tarefa é utilizar a ferramenta 'Google Search' para encontrar informações relevantes, usando as informações que você recebe na ENTRADA e a LISTA DE LUGARES JÁ SUGERIDOS.\n",
        "\n",
        "        A ENTRADA conterá todos os detalhes necessários para o dia (Destino, Data específica, etc.) e a LISTA DE LUGARES JÁ SUGERIDOS (apresentada como uma lista com bullet points).\n",
        "\n",
        "        Leia a LISTA DE LUGARES JÁ SUGERIDOS com atenção e **EVITE ABSOLUTAMENTE sugerir atividades ou locais que JÁ TENHAM SIDO MENCIONADOS NESTA LISTA**. Foque em apresentar opções novas e variadas para o dia atual, explorando diferentes áreas ou temas relacionados ao destino e tipo de viagem.\n",
        "\n",
        "        Sua missão é gerar sugestões de atividades, locais para visitar, opções de refeição (com bom custo benefício se possível) e ideias de rotas ou como se mover, **focando APENAS NO DIA e DESTINO mencionados na sua ENTRADA**.\n",
        "\n",
        "        Apresente as sugestões de forma clara e organizada para o dia solicitado, **sem pedir mais informações que já foram fornecidas na ENtrada**. Se a busca não retornar informações suficientes ou opções novas, indique isso.\n",
        "\n",
        "        Use bullet points ou tópicos curtos para o roteiro diário. Não invente informações. Baseie-se nos resultados da busca e na necessidade de VARIAR em relação à lista de lugares.\n",
        "\n",
        "        Formato de resposta esperado para o DIA da sua ENTRADA:\n",
        "        Manhã: Sugestão 1 baseada na busca, como chegar.\n",
        "        Tarde: Sugestão 2 baseada na busca, opção de almoço.\n",
        "        Noite: Sugestão 3 baseada na busca, opção de jantar.\n",
        "        Transporte: Como se locomover neste dia com base na busca.\n",
        "\n",
        "        Após o roteiro diário, inclua UMA ÚNICA LINHA no final da sua resposta começando EXATAMENTE com \"[LOCAIS SUGERIDOS NESTE DIA:] \" seguida por uma lista curta e separada por vírgulas dos 3 a 5 PRINCIPAIS locais ou atividades que você sugeriu *neste dia específico*. Esta lista é para o sistema.\n",
        "\n",
        "        Se não encontrar sugestões específicas na busca para o dia/destino ou opções variadas em relação à lista de lugares, indique isso no roteiro e liste \"[LOCAIS SUGERIDOS NESTE DIA:] Nenhum local encontrado\" no final.\n",
        "        \"\"\",\n",
        "        description = \"Agente buscador de roteiros diários no Google com memória de locais.\",\n",
        "        tools=[google_search]\n",
        "    )\n",
        "\n",
        "    entrada_do_agente_buscador_de_roteiros = f\"\"\"\n",
        "    Por favor, crie sugestões de roteiro detalhadas para o dia com base nestas informações. EVITE SUGERIR LOCAIS DA LISTA ABAIXO:\n",
        "    DESTINO: {destino}\n",
        "    DATA ESPECÍFICA DO DIA: {data_formatada}\n",
        "    DIA DA VIAGEM (numeração): Dia {dia+1} (de {numero_dias} dias totais)\n",
        "    TIPO DE VIAGEM: {tipo_viagem}\n",
        "\n",
        "    # --- LISTA DE LUGARES JÁ SUGERIDOS NA VIAGEM ---\n",
        "    {lugares_str_para_agente}\n",
        "    # ----------------------------------------------\n",
        "\n",
        "    Gere as sugestões focando apenas neste dia específico e inclua a lista de locais sugeridos NESTE DIA no final, conforme instruído.\n",
        "    \"\"\"\n",
        "\n",
        "    # --- Bloco TRY...EXCEPT aprimorado na chamada call_agent está na Célula 4 ---\n",
        "    # --- Processamento do resultado retornado por call_agent na função agente_buscador ---\n",
        "    resultados = \"Não foi possível gerar sugestões para este dia.\" # Mensagem padrão caso falhe\n",
        "    try:\n",
        "        # call_agent pode retornar a resposta bem-sucedida, um erro ClientError re-lançado,\n",
        "        # outro Exception re-lançado, ou a string \"ERRO_EXECUCAO_AGENTE: ...\" em caso de falha interna no runner\n",
        "        sugestoes_obtidas = call_agent(buscador, entrada_do_agente_buscador_de_roteiros)\n",
        "\n",
        "        # Verifica o que foi retornado por call_agent\n",
        "        if sugestoes_obtidas and sugestoes_obtidas.strip(): # Checa se a string não é vazia/só espaços\n",
        "             if sugestoes_obtidas.startswith(\"ERRO_EXECUCAO_AGENTE:\"):\n",
        "                  # Se call_agent retornou nossa string de erro customizada\n",
        "                  mensagem_erro_detalhada = sugestoes_obtidas[len(\"ERRO_EXECUCAO_AGENTE:\"):].strip()\n",
        "                  resultados = f\"Não foi possível obter sugestões para este dia. Ocorreu um erro durante a execução do agente: {mensagem_erro_detalhada}\"\n",
        "             else:\n",
        "                  # Assume que é uma resposta bem-sucedida (mesmo que possa não ter seguido o formato,\n",
        "                  # a extração na Célula 8 lida com isso)\n",
        "                  resultados = sugestoes_obtidas\n",
        "\n",
        "        else:\n",
        "             # Se a string retornada por call_agent era vazia ou None\n",
        "             resultados = \"Não foi possível obter sugestões para este dia. O agente não gerou uma resposta válida.\"\n",
        "\n",
        "    except ClientError as e:\n",
        "         # Captura erros específicos da API que foram re-lançados por call_agent\n",
        "         # (Call_agent tenta retry em 429, outros erros 4xx/5xx chegam aqui)\n",
        "         print(f\"\\n--- ERRO DA API PARA O DIA {dia + 1} ({data_formatada}) ---\")\n",
        "         print(f\"Detalhe do erro: Status {e.status_code}, Mensagem: {e.message}\")\n",
        "         print(\"-------------------------------------------------\")\n",
        "         resultados = f\"Não foi possível obter sugestões para este dia devido a um erro na comunicação com a API (Status {e.status_code}). Detalhes: {e.message}\"\n",
        "\n",
        "\n",
        "    except Exception as e:\n",
        "        # Captura quaisquer outros erros Python que possam ter acontecido\n",
        "        # (Call_agent re-lança outros Exceptions, ou algo pode acontecer aqui mesmo)\n",
        "        print(f\"\\n--- ERRO INESPERADO PARA O DIA {dia + 1} ({data_formatada}) ---\")\n",
        "        print(f\"Detalhe do erro: {e}\")\n",
        "        print(\"-------------------------------------------------\")\n",
        "        resultados = f\"Não foi possível obter sugestões para este dia devido a um erro inesperado: {e}\"\n",
        "\n",
        "\n",
        "    return resultados"
      ],
      "metadata": {
        "id": "kiJzm1Isg8Zp"
      },
      "execution_count": 6,
      "outputs": []
    },
    {
      "cell_type": "code",
      "source": [
        "# Nova Célula 7: Coleta de Informações da Viagem\n",
        "\n",
        "print(\"--- Bem-vindo ao seu Agente de Viagens Virtual! ---\")\n",
        "\n",
        "# --- Parte 1: Coleta de Informações da Viagem ---\n",
        "print(\"--- Início da Coleta de Informações ---\")\n",
        "# ---------------------------------\n",
        "\n",
        "# 1. Perguntar o destino\n",
        "destino = input(\"Primeiro, para qual cidade ou país você gostaria de viajar? \")\n",
        "\n",
        "# 2. Perguntar as datas da viagem\n",
        "# >>> COLOQUE DATAS PARA UMA VIAGEM CURTA AQUI (2-4 DIAS PARA TESTE) <<<\n",
        "data_inicio = input(\"Ótimo! Qual a data de início da sua viagem (no formato dd/mm/aaaa)? \")\n",
        "data_fim = input(\"E qual a data de término da sua viagem (no formato dd/mm/aaaa)? \")\n",
        "\n",
        "# 3. Perguntar o número de viajantes\n",
        "numero_viajantes_str = input(\"Quantas pessoas vão viajar (incluindo você)? \")\n",
        "try:\n",
        "    numero_viajantes = int(numero_viajantes_str)\n",
        "    print(f\"Certo, {numero_viajantes} viajante(s).\")\n",
        "except ValueError:\n",
        "    print(\"Ops! Parece que você não digitou um número válido para a quantidade de viajantes.\")\n",
        "    numero_viajantes = None\n",
        "\n",
        "# 4. Perguntar sobre o tipo de viagem\n",
        "tipo_viagem = input(\"Que tipo de viagem você busca (ex: aventura, relax, cultural, negócios)? \")\n",
        "\n",
        "print(\"\\n--- Resumo das Informações da sua Viagem ---\")\n",
        "print(f\"Destino: {destino}\")\n",
        "print(f\"Início: {data_inicio}\")\n",
        "print(f\"Término: {data_fim}\")\n",
        "if numero_viajantes is not None: print(f\"Número de Viajantes: {numero_viajantes}\")\n",
        "else: print(\"Número de Viajantes: Informação não fornecida ou inválida\")\n",
        "print(f\"Tipo de Viagem: {tipo_viagem}\")\n",
        "print(\"-------------------------------------------\\n\")\n",
        "\n",
        "# Note: Esta célula termina aqui. As variáveis (destino, data_inicio, etc.)\n",
        "# manterão seus valores para serem usados na próxima célula."
      ],
      "metadata": {
        "colab": {
          "base_uri": "https://localhost:8080/"
        },
        "id": "mYnsHCK1vwym",
        "outputId": "c1cf914a-a2f6-4ba4-e800-a07c0519d6d6"
      },
      "execution_count": 7,
      "outputs": [
        {
          "output_type": "stream",
          "name": "stdout",
          "text": [
            "--- Bem-vindo ao seu Agente de Viagens Virtual! ---\n",
            "--- Início da Coleta de Informações ---\n",
            "Primeiro, para qual cidade ou país você gostaria de viajar? Amsterdam\n",
            "Ótimo! Qual a data de início da sua viagem (no formato dd/mm/aaaa)? 10/07/2025\n",
            "E qual a data de término da sua viagem (no formato dd/mm/aaaa)? 14/07/2025\n",
            "Quantas pessoas vão viajar (incluindo você)? 2\n",
            "Certo, 2 viajante(s).\n",
            "Que tipo de viagem você busca (ex: aventura, relax, cultural, negócios)? passeio\n",
            "\n",
            "--- Resumo das Informações da sua Viagem ---\n",
            "Destino: Amsterdam\n",
            "Início: 10/07/2025\n",
            "Término: 14/07/2025\n",
            "Número de Viajantes: 2\n",
            "Tipo de Viagem: passeio\n",
            "-------------------------------------------\n",
            "\n"
          ]
        }
      ]
    },
    {
      "cell_type": "code",
      "source": [
        "# Célula 8: Processamento de Datas e Loop Diário - Versão com Memória Sumarizada\n",
        "import time\n",
        "import datetime\n",
        "import textwrap # Garante que textwrap está disponível aqui para to_markdown\n",
        "from IPython.display import display, Markdown # Garante display e Markdown aqui para to_markdown\n",
        "import re # Importa a biblioteca de expressões regulares, útil para extração\n",
        "\n",
        "# Você precisará garantir que a função to_markdown esteja definida em uma célula ANTES desta (Célula 5, na nossa estrutura sugerida)\n",
        "# Você precisará garantir que a função agente_buscador esteja definida em uma célula ANTES desta (Célula 6, na nossa estrutura sugerida)\n",
        "\n",
        "# --- Parte 2: Processamento de Datas e Loop Diário ---\n",
        "data_inicio_obj = None\n",
        "data_fim_obj = None\n",
        "numero_dias = 0 # Inicializamos como 0\n",
        "\n",
        "try:\n",
        "    # Essas variáveis (data_inicio, data_fim) vêm da Célula 7\n",
        "    # Assumimos que import datetime está em uma célula anterior que já foi executada\n",
        "    data_inicio_obj = datetime.datetime.strptime(data_inicio, \"%d/%m/%Y\").date()\n",
        "    data_fim_obj = datetime.datetime.strptime(data_fim, \"%d/%m/%Y\").date()\n",
        "\n",
        "    duracao_viagem = data_fim_obj - data_inicio_obj\n",
        "    numero_dias = duracao_viagem.days + 1\n",
        "\n",
        "    print(f\"DEBUG: O número de dias calculado é: {numero_dias}\")\n",
        "\n",
        "    if numero_dias <= 0:\n",
        "        print(\"Ops! A data de término parece ser anterior à data de início.\")\n",
        "        numero_dias = 0\n",
        "\n",
        "except ValueError:\n",
        "    print(\"Ops! Formato de data inválido (esperado dd/mm/aaaa).\")\n",
        "    numero_dias = 0\n",
        "\n",
        "# As variáveis destino, tipo_viagem, numero_viajantes também vêm da Célula 7 e estão disponíveis aqui\n",
        "\n",
        "if numero_dias > 0:\n",
        "    print(\"\\n--- Gerando Roteiro Diário com IA e Busca ---\")\n",
        "\n",
        "    # --- INICIALIZA A LISTA DE LUGARES SUGERIDOS TOTAL ---\n",
        "    lugares_sugeridos_total = []\n",
        "    # ---------------------------------------------------\n",
        "\n",
        "    # --- INÍCIO DO LOOP DIÁRIO ---\n",
        "    for dia in range(numero_dias):\n",
        "        data_do_dia = data_inicio_obj + datetime.timedelta(days=dia)\n",
        "        data_formatada = data_do_dia.strftime(\"%d/%m/%Y\")\n",
        "\n",
        "        print(f\"\\n--- Processando Sugestões para o Dia {dia + 1} ({data_formatada}) ---\")\n",
        "        print(f\"Solicitando ao agente buscador informações para o dia {dia + 1}...\")\n",
        "        # print(f\"DEBUG MEMÓRIA: Lugares sugeridos TOTAL ANTES do dia {dia+1}: {lugares_sugeridos_total}\") # Debugging memória\n",
        "\n",
        "        # Chama a função agente_buscador para obter as sugestões para este dia\n",
        "        # >>> Passamos a lista de lugares sugeridos total como memória <<<\n",
        "        sugestoes_do_dia = agente_buscador(\n",
        "            topico=f\"Roteiro detalhado para o dia {dia + 1} da viagem\",\n",
        "            numero_dias=numero_dias,\n",
        "            dia=dia,\n",
        "            data_formatada=data_formatada,\n",
        "            destino=destino,\n",
        "            tipo_viagem=tipo_viagem,\n",
        "            lugares_sugeridos_total=lugares_sugeridos_total # <<< NOVO parâmetro com a lista\n",
        "        )\n",
        "\n",
        "        # --- Extrair locais sugeridos NESTE dia da resposta do agente ---\n",
        "        locais_sugeridos_neste_dia = []\n",
        "        sugestoes_para_display = sugestoes_do_dia # Inicialmente, o texto completo\n",
        "\n",
        "        marcador_inicio = \"[LOCAIS SUGERIDOS NESTE DIA:]\" # O texto exato do marcador\n",
        "        if marcador_inicio in sugestoes_do_dia:\n",
        "            try:\n",
        "                # Encontra a posição do marcador de início\n",
        "                pos_inicio_marcador = sugestoes_do_dia.find(marcador_inicio)\n",
        "                # Pega a parte da string APÓS o marcador\n",
        "                string_locais_bruta = sugestoes_do_dia[pos_inicio_marcador + len(marcador_inicio):].strip()\n",
        "\n",
        "                # Remove a seção do marcador e a lista de locais do texto principal para exibir\n",
        "                sugestoes_para_display = sugestoes_do_dia[:pos_inicio_marcador].strip()\n",
        "\n",
        "                if string_locais_bruta and string_locais_bruta.lower() != \"nenhum local encontrado\":\n",
        "                    # Divide a string de locais por vírgulas\n",
        "                    lista_locais_sujos = string_locais_bruta.split(',')\n",
        "                    # Limpa espaços em branco de cada item e adiciona à lista para memória\n",
        "                    locais_sugeridos_neste_dia = [local.strip() for local in lista_locais_sujos if local.strip()]\n",
        "                    # print(f\"DEBUG EXTRAÇÃO: Lista de locais extraída para o dia {dia+1}: {locais_sugeridos_neste_dia}\") # Debugging extração\n",
        "                # else:\n",
        "                    # print(f\"DEBUG EXTRAÇÃO: Marcador encontrado, mas lista de locais vazia ou 'nenhum local encontrado' para o dia {dia+1}.\") # Debugging extração\n",
        "\n",
        "            except Exception as e:\n",
        "                 print(f\"AVISO: Erro ao extrair locais sugeridos do texto do agente para o dia {dia+1}: {e}\")\n",
        "                 # Em caso de erro na extração, mantém o texto completo e a lista de locais sugeridos neste dia vazia\n",
        "\n",
        "        # --- Atualiza a lista total de locais sugeridos ---\n",
        "        # Adiciona os locais sugeridos NESTE dia (extraídos acima) à lista total\n",
        "        # Usamos .extend() para adicionar todos os itens da lista extraída\n",
        "        lugares_sugeridos_total.extend(locais_sugeridos_neste_dia)\n",
        "\n",
        "        # Opcional: remover duplicados da lista total, caso o agente repita ou a extração não seja perfeita\n",
        "        # Isso garante que a lista de \"locais a evitar\" seja única\n",
        "        lugares_sugeridos_total = list(set(lugares_sugeridos_total))\n",
        "\n",
        "        # print(f\"DEBUG MEMÓRIA: Lugares sugeridos TOTAL após o dia {dia+1}: {lugares_sugeridos_total}\") # Debugging memória\n",
        "\n",
        "\n",
        "        # Exibir o resultado retornado pelo agente buscador usando display e to_markdown\n",
        "        print(f\"\\n--- Sugestões do Agente Buscador para o Dia {dia + 1} ({data_formatada}) ---\")\n",
        "        # >>> Usamos a sugestao_para_display limpa <<<\n",
        "        display(to_markdown(sugestoes_para_display))\n",
        "        print(\"----------------------------------------------------\")\n",
        "\n",
        "        # --- ADICIONA UMA PAUSA PARA EVITAR PROBLEMAS DE QUOTA (429) ---\n",
        "        if dia < numero_dias - 1:\n",
        "            print(\"Aguardando 5 segundos antes de processar o próximo dia...\")\n",
        "            time.sleep(5)\n",
        "        # ----------------------------------------------------------\n",
        "\n",
        "    print(\"\\n--- Processamento do Roteiro Diário Concluído ---\")\n",
        "    print(f\"Lista final de locais únicos sugeridos na viagem: {lugares_sugeridos_total}\") # Opcional: imprimir a lista final\n",
        "    print(\"Verifique as sugestões geradas para cada dia acima.\")\n",
        "\n",
        "\n",
        "else:\n",
        "    print(\"\\nNão foi possível gerar o roteiro devido a datas inválidas ou duração <= 0.\")"
      ],
      "metadata": {
        "colab": {
          "base_uri": "https://localhost:8080/",
          "height": 1000
        },
        "id": "VgIXBX88v-kK",
        "outputId": "889f314b-67a7-40b4-e20f-0ca41d22817a"
      },
      "execution_count": 8,
      "outputs": [
        {
          "output_type": "stream",
          "name": "stdout",
          "text": [
            "DEBUG: O número de dias calculado é: 5\n",
            "\n",
            "--- Gerando Roteiro Diário com IA e Busca ---\n",
            "\n",
            "--- Processando Sugestões para o Dia 1 (10/07/2025) ---\n",
            "Solicitando ao agente buscador informações para o dia 1...\n",
            "DEBUG call_agent: Tentativa 1/3 para rodar o agente para a mensagem: '\n",
            "    Por favor, crie sugestões de roteiro detalhad...'\n",
            "DEBUG call_agent: Agente rodou com sucesso na tentativa 1.\n",
            "\n",
            "--- Sugestões do Agente Buscador para o Dia 1 (10/07/2025) ---\n"
          ]
        },
        {
          "output_type": "display_data",
          "data": {
            "text/plain": [
              "<IPython.core.display.Markdown object>"
            ],
            "text/markdown": "> Com base nas buscas, aqui está uma sugestão de roteiro para o dia 1 em Amsterdam, 10 de julho de 2025:\n> \n> **Manhã:**\n> \n> *   **Comece com um passeio de barco pelos canais de Amsterdam.** Esta é uma forma relaxante e pitoresca de conhecer a cidade, passando por muitos pontos turísticos importantes. Várias empresas oferecem passeios, com opções de áudio em diversos idiomas. Os passeios geralmente partem da Estação Central.\n> *   **Alternativa:** Alugue uma bicicleta e explore a cidade pedalando. Amsterdam é conhecida por suas ciclovias.\n> \n> **Tarde:**\n> \n> *   **Visite o Bloemenmarkt**, o famoso mercado de flores flutuante. Mesmo que não compre nada, é um lugar vibrante e colorido para passear e apreciar as tulipas (se a estação permitir) e outras flores.\n> *   **Almoço:** Experimente o Maoz para um falafel acessível e saboroso, ou procure por opções de \"kapsalon\" em restaurantes turcos perto da Estação Central.\n> \n> **Noite:**\n> \n> *   **Explore o bairro Jordaan.** Caminhe pelas ruas charmosas, admire as casas e aproveite a atmosfera tranquila. Há muitos cafés e restaurantes acolhedores na área.\n> *   **Jantar:** Considere o Foodhallen para experimentar diferentes comidas locais em um ambiente animado.\n> \n> **Transporte:**\n> \n> *   Amsterdam tem um excelente sistema de transporte público, incluindo bondes (trams), ônibus e metrô. Para o dia, um bilhete de 24 horas pode ser uma boa opção. Andar de bicicleta também é uma ótima maneira de se locomover."
          },
          "metadata": {}
        },
        {
          "output_type": "stream",
          "name": "stdout",
          "text": [
            "----------------------------------------------------\n",
            "Aguardando 5 segundos antes de processar o próximo dia...\n",
            "\n",
            "--- Processando Sugestões para o Dia 2 (11/07/2025) ---\n",
            "Solicitando ao agente buscador informações para o dia 2...\n",
            "DEBUG call_agent: Tentativa 1/3 para rodar o agente para a mensagem: '\n",
            "    Por favor, crie sugestões de roteiro detalhad...'\n",
            "DEBUG call_agent: Agente rodou com sucesso na tentativa 1.\n",
            "\n",
            "--- Sugestões do Agente Buscador para o Dia 2 (11/07/2025) ---\n"
          ]
        },
        {
          "output_type": "display_data",
          "data": {
            "text/plain": [
              "<IPython.core.display.Markdown object>"
            ],
            "text/markdown": "> Aqui estão algumas sugestões de roteiro para o seu segundo dia em Amsterdam, 11 de julho de 2025, evitando os locais já visitados:\n> \n> **Manhã:**\n> \n> *   **Visite o Rijksmuseum:** Explore a vasta coleção de arte e história holandesa, incluindo obras de Rembrandt e Vermeer. Para chegar lá, você pode pegar o bonde (tram) 2 ou 5 a partir da Estação Central de Amsterdam.\n> *   **Opção alternativa:** Se preferir algo menos tradicional, visite o Museu Van Loon, uma casa de canal bem preservada que oferece um vislumbre da vida da aristocracia de Amsterdam.\n> \n> **Tarde:**\n> \n> *   **Passeie pelo Vondelpark:** Relaxe e aproveite a natureza no maior parque de Amsterdam. Alugue uma bicicleta ou simplesmente caminhe pelos caminhos sinuosos.\n> *   **Almoço:** Experimente um \"broodje\" (sanduíche) em uma das muitas padarias artesanais ao redor do Vondelpark. Uma opção é a \"Le Fournil de Sébastien\", com pães e doces deliciosos.\n> *   **Visite o Museu da Resistência (Verzetsmuseum):** Explore a história da resistência holandesa durante a Segunda Guerra Mundial.\n> \n> **Noite:**\n> \n> *   **Explore o bairro De Pijp:** Descubra este bairro vibrante e multicultural, com suas ruas estreitas, mercados movimentados e uma grande variedade de restaurantes.\n> *   **Jantar:** Desfrute de uma refeição no Albert Cuyp Market, um mercado de rua com diversas opções de comida, ou experimente um dos muitos restaurantes étnicos em De Pijp. O restaurante Bazar oferece culinária do Oriente Médio em um ambiente animado.\n> *   **Opção alternativa:** Visite o Heineken Experience para uma experiência interativa sobre a história da cerveja Heineken.\n> \n> **Transporte:**\n> \n> *   A melhor forma de se locomover em Amsterdam é de bicicleta ou transporte público (tram, ônibus e metrô). Considere comprar um Amsterdam Travel Ticket para uso ilimitado do transporte público. Caminhar também é uma ótima opção, especialmente para explorar os bairros centrais."
          },
          "metadata": {}
        },
        {
          "output_type": "stream",
          "name": "stdout",
          "text": [
            "----------------------------------------------------\n",
            "Aguardando 5 segundos antes de processar o próximo dia...\n",
            "\n",
            "--- Processando Sugestões para o Dia 3 (12/07/2025) ---\n",
            "Solicitando ao agente buscador informações para o dia 3...\n",
            "DEBUG call_agent: Tentativa 1/3 para rodar o agente para a mensagem: '\n",
            "    Por favor, crie sugestões de roteiro detalhad...'\n",
            "DEBUG call_agent: Agente rodou com sucesso na tentativa 1.\n",
            "\n",
            "--- Sugestões do Agente Buscador para o Dia 3 (12/07/2025) ---\n"
          ]
        },
        {
          "output_type": "display_data",
          "data": {
            "text/plain": [
              "<IPython.core.display.Markdown object>"
            ],
            "text/markdown": "> Com base nas informações encontradas, aqui estão algumas sugestões para o seu dia 3 em Amsterdam, 12 de julho de 2025, evitando os locais já visitados:\n> \n> Manhã:\n> \n> *   **Visite o Museu Stedelijk Amsterdam:** Explore a arte moderna e contemporânea neste museu renomado. Possui obras de artistas como Van Gogh, Jackson Pollock e Andy Warhol.\n>     *   Como chegar: Utilize o tram (elétrico) até a parada \"Museumplein\". O museu fica bem próximo.\n> \n> Tarde:\n> \n> *   **Explore o bairro Amsterdam Oost:** Caminhe por este bairro menos turístico, visite o Dappermarkt (um mercado de rua centenário) e relaxe no Oosterpark, um ótimo lugar para um piquenique.\n>     *   Opção de almoço: Experimente um dos restaurantes ou cafés no Dappermarkt.\n> \n> Noite:\n> \n> *   **Visite o NDSM Wharf:** Pegue uma balsa gratuita para este antigo estaleiro transformado em centro cultural. Explore a arte de rua, restaurantes em contêineres, e aproveite os eventos que possam estar acontecendo (verifique a programação local).\n>     *   Opção de jantar: Experimente um dos restaurantes no NDSM Wharf, muitos com vistas para a água.\n> \n> Transporte:\n> \n> *   Utilize o sistema de transporte público de Amsterdam (trams, ônibus, metrô) ou alugue uma bicicleta para se locomover entre os locais. A balsa para o NDSM Wharf é gratuita e sai da estação central."
          },
          "metadata": {}
        },
        {
          "output_type": "stream",
          "name": "stdout",
          "text": [
            "----------------------------------------------------\n",
            "Aguardando 5 segundos antes de processar o próximo dia...\n",
            "\n",
            "--- Processando Sugestões para o Dia 4 (13/07/2025) ---\n",
            "Solicitando ao agente buscador informações para o dia 4...\n",
            "DEBUG call_agent: Tentativa 1/3 para rodar o agente para a mensagem: '\n",
            "    Por favor, crie sugestões de roteiro detalhad...'\n",
            "DEBUG call_agent: Agente rodou com sucesso na tentativa 1.\n",
            "\n",
            "--- Sugestões do Agente Buscador para o Dia 4 (13/07/2025) ---\n"
          ]
        },
        {
          "output_type": "display_data",
          "data": {
            "text/plain": [
              "<IPython.core.display.Markdown object>"
            ],
            "text/markdown": "> Com base nas informações disponíveis e evitando os locais já visitados, aqui estão algumas sugestões para o seu dia 4 em Amsterdã:\n> \n> *   **Manhã:** Explore Amsterdam Noord. Pegue a balsa gratuita atrás da Estação Central para Amsterdam Noord. Visite o A'DAM Lookout para uma vista panorâmica da cidade ou o Eye Filmmuseum para explorar a história do cinema. Para chegar lá, pegue a balsa gratuita para NDSM Werf atrás da Estação Central.\n> *   **Tarde:** Descubra Westergas. Localizado no Westerpark, este antigo complexo industrial foi transformado em um centro cultural vibrante. Desfrute de bares, restaurantes e um cinema de arte. Almoce no Westerpark, onde há várias opções de restaurantes e cafés. Para chegar, pegue o ônibus ou bonde até Westerpark.\n> *   **Noite:** Jante em um restaurante local. Experimente a culinária italiana no Lo Stivale D'oro, perto da Rembrandtplein, conhecido pelo bom custo-benefício. Para chegar, use o transporte público até Rembrandtplein.\n> \n> **Transporte:** Utilize o eficiente sistema de transporte público de Amsterdã, que inclui bondes, ônibus e metrô. Considere adquirir um bilhete diário ou de vários dias da GVB para acesso ilimitado."
          },
          "metadata": {}
        },
        {
          "output_type": "stream",
          "name": "stdout",
          "text": [
            "----------------------------------------------------\n",
            "Aguardando 5 segundos antes de processar o próximo dia...\n",
            "\n",
            "--- Processando Sugestões para o Dia 5 (14/07/2025) ---\n",
            "Solicitando ao agente buscador informações para o dia 5...\n",
            "DEBUG call_agent: Tentativa 1/3 para rodar o agente para a mensagem: '\n",
            "    Por favor, crie sugestões de roteiro detalhad...'\n",
            "DEBUG call_agent: Agente rodou com sucesso na tentativa 1.\n",
            "\n",
            "--- Sugestões do Agente Buscador para o Dia 5 (14/07/2025) ---\n"
          ]
        },
        {
          "output_type": "display_data",
          "data": {
            "text/plain": [
              "<IPython.core.display.Markdown object>"
            ],
            "text/markdown": "> Para o dia 14 de julho de 2025 em Amsterdã, aqui estão algumas sugestões de roteiro, evitando os locais já visitados:\n> \n> **Manhã:**\n> \n> *   **Visite o Museu da Ciência NEMO:** Explore exposições interativas sobre ciência e tecnologia, ótimo para todas as idades. Para chegar, caminhe desde a Estação Central ou pegue o ônibus 22.\n> *   **Alternativa:** Se preferir algo diferente, experimente o The Upside Down Amsterdam, um museu interativo dedicado ao Instagram, onde você pode tirar fotos divertidas e criativas.\n> \n> **Tarde:**\n> \n> *   **Explore o Mercado Ten Katemarkt:** Um mercado local vibrante com uma variedade de produtos, desde alimentos até roupas. É uma ótima opção para almoçar algo rápido e saboroso, como um stroopwafel ou arenque. O mercado fica na Ten Katestraat, em Amsterdam Oud-West.\n> *   **Opção de Almoço:** Experimente o Hap Hmm, um restaurante tradicional holandês com pratos locais a preços acessíveis (se estiver aberto para almoço, pois fecha cedo).\n> \n> **Noite:**\n> \n> *   **Jantar no Sefa Grill Restaurante:** Desfrute de comida turca com grelhados deliciosos e custo-benefício ótimo.\n> *   **Passeio pela Biblioteca Cuypers:** Visite a maior e mais antiga biblioteca de história da arte na Holanda.\n> \n> **Transporte:**\n> \n> *   Utilize o transporte público (ônibus, bondes) ou alugue uma bicicleta para se locomover pela cidade. Caminhar também é uma ótima maneira de explorar as áreas centrais."
          },
          "metadata": {}
        },
        {
          "output_type": "stream",
          "name": "stdout",
          "text": [
            "----------------------------------------------------\n",
            "\n",
            "--- Processamento do Roteiro Diário Concluído ---\n",
            "Lista final de locais únicos sugeridos na viagem: [\"Lo Stivale D'oro\", 'Bairro Jordaan', 'Vondelpark', 'Museu da Ciência NEMO', 'Foodhallen', 'Bloemenmarkt', 'Oosterpark', 'Maoz', 'Amsterdam Noord', 'Sefa Grill Restaurante', 'Mercado Ten Katemarkt', 'Amsterdam Oost', 'Biblioteca Cuypers', 'Passeio de Barco nos Canais', 'NDSM Wharf', 'Westergas', 'Dappermarkt', 'De Pijp', 'Rijksmuseum', 'Museu Stedelijk']\n",
            "Verifique as sugestões geradas para cada dia acima.\n"
          ]
        }
      ]
    }
  ]
}